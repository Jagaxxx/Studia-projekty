{
 "cells": [
  {
   "cell_type": "markdown",
   "metadata": {},
   "source": [
    "## INTERPOLACJA WIELOMIANOWA"
   ]
  },
  {
   "cell_type": "code",
   "execution_count": 1,
   "metadata": {},
   "outputs": [],
   "source": [
    "import numpy as np\n",
    "from typing import Callable, Tuple, List"
   ]
  },
  {
   "cell_type": "markdown",
   "metadata": {},
   "source": [
    "### 1) Wzór interpolacyjny Newtona\n",
    "\n",
    "#### a) iloraz różnicowy: \n",
    "\n",
    "$$f[x_{i}; x_{i+1}; \\ldots; x_{i+n}] = \\dfrac{f[x_{i+1};\\ldots;x_{i+n}]-f[x_{i};x_{i+1}; \\ldots; x_{i+n-1}]}{x_{i+n}-x_{i}}$$\n",
    "\n",
    "dla $n=1,2,\\ldots; \\quad i=0,1,2,\\ldots$\n",
    "\n",
    "#### b) wzór:\n",
    "\n",
    "$$W_n(x) = f(x_0) + f[x_0;x_1]\\omega_0(x)+\\ldots+f[x_0;\\ldots;x_n]\\omega_{n-1}(x)$$\n",
    "\n",
    "gdzie: $\\omega_i(x) = (x-x_0)(x-x_1) \\cdot \\ldots \\cdot (x-x_i)$\n"
   ]
  },
  {
   "cell_type": "code",
   "execution_count": 2,
   "metadata": {},
   "outputs": [],
   "source": [
    "def interpol_newton(x: float, xdata: np.ndarray, ydata: np.ndarray) -> float:\n",
    "    n = len(xdata)\n",
    "\n",
    "    fxx = np.copy(ydata)\n",
    "    omega = 1.0\n",
    "    result = fxx[0]\n",
    "    for k in range(n-1):\n",
    "        for i in range(n - k - 1):\n",
    "            fxx[i] = (fxx[i + 1] - fxx[i]) / (xdata[i + k + 1] - xdata[i])\n",
    "        \n",
    "        omega *= (x - xdata[k])\n",
    "        result += fxx[0] * omega \n",
    "\n",
    "    return result"
   ]
  },
  {
   "cell_type": "markdown",
   "metadata": {},
   "source": [
    "## APROKSYMACJA"
   ]
  },
  {
   "cell_type": "markdown",
   "metadata": {},
   "source": [
    "### 1) Metoda najmniejszych kwadratów\n",
    "\n",
    "Niech $y=a+bx$. Wtedy:\n",
    "\n",
    "$$b= \\dfrac{\\sum_{i=1}^n (x_i-\\bar{x}) (y_i-\\bar{y}) }{\\sum_{i=1}^n (x_i-\\bar{x})^2}$$ \n",
    "\n",
    "$$a= \\bar{y} - b \\bar{x}$$"
   ]
  },
  {
   "cell_type": "code",
   "execution_count": 3,
   "metadata": {},
   "outputs": [],
   "source": [
    "def mnk(x: np.ndarray, y: np.ndarray) -> tuple[float,float]:\n",
    "    b = np.sum((x-np.mean(x)) * (y - np.mean(y))) / np.sum((x - np.mean(x))**2)\n",
    "    a = np.mean(y) - b * np.mean(x)\n",
    "    return a, b"
   ]
  }
 ],
 "metadata": {
  "kernelspec": {
   "display_name": "Python 3",
   "language": "python",
   "name": "python3"
  },
  "language_info": {
   "codemirror_mode": {
    "name": "ipython",
    "version": 3
   },
   "file_extension": ".py",
   "mimetype": "text/x-python",
   "name": "python",
   "nbconvert_exporter": "python",
   "pygments_lexer": "ipython3",
   "version": "3.12.5"
  }
 },
 "nbformat": 4,
 "nbformat_minor": 2
}
