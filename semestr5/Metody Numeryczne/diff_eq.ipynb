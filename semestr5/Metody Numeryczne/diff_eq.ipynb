{
 "cells": [
  {
   "cell_type": "markdown",
   "metadata": {},
   "source": [
    "## RÓWNANIA RÓŻNICZKOWE ZWYCZAJNE"
   ]
  },
  {
   "cell_type": "code",
   "execution_count": 45,
   "metadata": {},
   "outputs": [],
   "source": [
    "import numpy as np\n",
    "from typing import Callable, Tuple, List"
   ]
  },
  {
   "cell_type": "markdown",
   "metadata": {},
   "source": [
    "### 1) metoda Eulera:\n",
    "\n",
    "$$ y' = F(x,y) $$\n",
    "\n",
    "$$ y(x+h) = y(x) + h F(x,y) $$"
   ]
  },
  {
   "cell_type": "code",
   "execution_count": 46,
   "metadata": {},
   "outputs": [],
   "source": [
    "def euler(func:Callable[[float,float], float], xStart:float, xStop:float, y0:float, steps:int = None, h:float = None) -> float:\n",
    "    if h == None:\n",
    "        h = (xStop - xStart)/ steps\n",
    "    elif steps == None:\n",
    "        steps = int((xStop - xStart) / h)\n",
    "        \n",
    "    x_value = np.linspace(xStart, xStop, steps + 1)\n",
    "    y_value, y_value[0] = np.zeros(steps+1), y0\n",
    "    for i in range(0, steps):\n",
    "        y_value[i+1] = y_value[i] + h * func(x_value[i], y_value[i])\n",
    "    return x_value, y_value"
   ]
  },
  {
   "cell_type": "markdown",
   "metadata": {},
   "source": [
    "### 2) metoda Runge-Kutta II rzędu:\n",
    "\n",
    "$$ y' = F(x,y) $$\n",
    "\n",
    "$$ K_0 = h F(x,y)$$\n",
    "\n",
    "$$ K_1 = h F\\left(x+\\dfrac{h}{2},y+\\dfrac{1}{2}K_0 \\right)$$\n",
    "\n",
    "$$ y(x+h) = y(x) + K_1 $$"
   ]
  },
  {
   "cell_type": "code",
   "execution_count": 47,
   "metadata": {},
   "outputs": [],
   "source": [
    "def RK_2nd(func:Callable[[float,float], float], xStart:float, xStop:float, y0:float, steps:int = None, h:int = None) -> float:\n",
    "    if h == None:\n",
    "        h = (xStop - xStart)/ steps\n",
    "    elif steps == None:\n",
    "        steps = int((xStop - x0) / h)\n",
    "\n",
    "    x_value = np.linspace(xStart, xStop, steps + 1)\n",
    "    y_value, y_value[0] = np.zeros(steps+1), y0\n",
    "    for i in range(0, steps):\n",
    "        x, y = x_value[i], y_value[i]\n",
    "\n",
    "        k1 = h * func(x, y)\n",
    "        k2 = h * func(x + h/2, y + k1/2)\n",
    "\n",
    "        y_value[i+1] = y_value[i] + k2\n",
    "\n",
    "    return x_value, y_value"
   ]
  },
  {
   "cell_type": "markdown",
   "metadata": {},
   "source": [
    "### 3) metoda Runge-Kutta IV rzędu:\n",
    "\n",
    "$$ y' = F(x,y) $$\n",
    "\n",
    "$$ K_0 = F(x,y)$$\n",
    "\n",
    "$$ K_1 = F\\left(x+\\dfrac{h}{2},y+\\dfrac{K_0}{2} \\right)$$\n",
    "\n",
    "$$ K_2 = F\\left(x+\\dfrac{h}{2},y+\\dfrac{K_1}{2} \\right)$$\n",
    "\n",
    "$$ K_3 = F\\left(x+h,y+K_2 \\right)$$\n",
    "\n",
    "$$ y(x+h) = y(x) + \\dfrac{h}{6} (K_0+2K_1+2K_2+K_3) $$"
   ]
  },
  {
   "cell_type": "code",
   "execution_count": 48,
   "metadata": {},
   "outputs": [],
   "source": [
    "def RK_4th(func:Callable[[float,float], float], xStart:float, xStop:float, y0:float, steps:int = None, h:int = None) -> float:\n",
    "    if h == None:\n",
    "        h = (xStop - xStart)/ steps\n",
    "    elif steps == None:\n",
    "        steps = int((xStop - xStart) / h)\n",
    "\n",
    "    x_value = np.linspace(xStart, xStop, steps + 1)\n",
    "    y_value, y_value[0] = np.zeros(steps+1), y0\n",
    "    for i in range(0, steps):\n",
    "        x, y = x_value[i], y_value[i]\n",
    "\n",
    "        k1 = func(x, y)\n",
    "        k2 = func(x + h/2, y+h*k1/2)\n",
    "        k3 = func(x + h/2, y+h*k2/2)\n",
    "        k4 = func(x + h, y+h*k3)\n",
    "\n",
    "        y_value[i+1] = y + h/6 *(k1+2*k2+2*k3+k4)\n",
    "\n",
    "    return x_value, y_value"
   ]
  },
  {
   "cell_type": "markdown",
   "metadata": {},
   "source": [
    "## RÓWNANIE RÓŻNICZKOWE 2-GO RZĘDU"
   ]
  },
  {
   "cell_type": "markdown",
   "metadata": {},
   "source": [
    "### 1) metoda Runge-Kutta IV rzędu"
   ]
  },
  {
   "cell_type": "code",
   "execution_count": 49,
   "metadata": {},
   "outputs": [],
   "source": [
    "def RK_4th_2nd_ODE(func, func_params, y_conditions, tStart, tStop, h = 0.01):\n",
    "    steps = int((tStop - tStart) / h)\n",
    "    t_values = np.linspace(tStart, tStop, steps + 1)\n",
    "    y_values = np.zeros((steps + 1, len(y_conditions)))\n",
    "    y_values[0] = y_conditions\n",
    "\n",
    "    for i in range(steps):\n",
    "        t = t_values[i]\n",
    "        y = y_values[i]\n",
    "\n",
    "        k1 = func(t, y, *func_params)\n",
    "        k2 = func(t + h / 2, y + h * k1 / 2, *func_params)\n",
    "        k3 = func(t + h / 2, y + h * k2 / 2, *func_params)\n",
    "        k4 = func(t + h, y + h * k3, *func_params)\n",
    "\n",
    "        y_values[i + 1] = y + h / 6 * (k1 + 2 * k2 + 2 * k3 + k4)\n",
    "\n",
    "    return t_values, y_values[:, 0], y_values[:, 1]"
   ]
  },
  {
   "cell_type": "markdown",
   "metadata": {},
   "source": [
    "### 2) metoda strzałów - zagadnienia brzegowe\n",
    "\n",
    "Mamy zagadnienie brzegowe $y(a) = \\alpha, \\, y(b) = \\beta $\n",
    "\n",
    "Szukamy rozwiązania problemu: $\\quad y'' = f(x,y,y'), \\quad y(a) = \\alpha, \\quad y'(a) = u, \\,$ dla takiego $\\, u=\\tilde{u} \\, $ aby: $ \\quad y(a) = y\\left(b,\\tilde{u}\\right)$\n",
    "\n",
    "Więc $u$ jest pierwiastkiem wielomianu:\n",
    "$$ r(u) = y\\left(b,u\\right) - \\beta = y\\left(b,u\\right) - 1 = 0 $$"
   ]
  },
  {
   "cell_type": "code",
   "execution_count": 50,
   "metadata": {},
   "outputs": [],
   "source": [
    "def RK_4th_2nd_ODE_v2(func, y_conditions, tStart, tStop, h = 0.01):\n",
    "    steps = int((tStop - tStart) / h)\n",
    "    t_values = np.linspace(tStart, tStop, steps + 1)\n",
    "    y_values = np.zeros((steps + 1, len(y_conditions)))\n",
    "    y_values[0] = y_conditions\n",
    "\n",
    "    for i in range(steps):\n",
    "        t = t_values[i]\n",
    "        y = y_values[i]\n",
    "\n",
    "        k1 = func(t, y)\n",
    "        k2 = func(t + h / 2, y + h * k1 / 2)\n",
    "        k3 = func(t + h / 2, y + h * k2 / 2)\n",
    "        k4 = func(t + h, y + h * k3)\n",
    "\n",
    "        y_values[i + 1] = y + h / 6 * (k1 + 2 * k2 + 2 * k3 + k4)\n",
    "\n",
    "    return t_values, y_values[:, 0], y_values[:, 1]"
   ]
  },
  {
   "cell_type": "code",
   "execution_count": 51,
   "metadata": {},
   "outputs": [],
   "source": [
    "def shooting_method(func, y_condA, y_condB, tStart, tStop, max_iter = 100, tol = 10**(-4), h=0.01):\n",
    "    a, b = tStart, tStop\n",
    "    for i in range(max_iter):\n",
    "        u = (a + b) / 2\n",
    "        y_conditions = [y_condA, u]\n",
    "        x_values, y0_values, y1_values = RK_4th_2nd_ODE_v2(func, y_conditions, tStart, tStop, h)\n",
    "\n",
    "        fu = y0_values[-1] - y_condB \n",
    "\n",
    "        if np.abs(fu) < tol:\n",
    "            return x_values, y0_values, y1_values\n",
    "\n",
    "        y_conditions_a = [y_condA, a]\n",
    "        _, y0_values_a, _ = RK_4th_2nd_ODE_v2(func, y_conditions_a, tStart, tStop, h)\n",
    "        fa = y0_values_a[-1] - y_condB\n",
    "\n",
    "        if fu * fa > 0:\n",
    "            a = u\n",
    "        else:\n",
    "            b = u"
   ]
  },
  {
   "cell_type": "markdown",
   "metadata": {},
   "source": [
    "### PRZYKŁADOWE ZADANIE \n",
    "Znajdź trajektorię piłki rzuconej ukośnie do powierzchni Ziemi\n",
    "\n",
    "$\\textbf(a)$ zaniedbując opory powietrza,\n",
    "\n",
    "$\\textbf(b)$ uwzględniając opory powietrza.\n",
    "\n",
    "W drugim przypadku załóż, że siła oporu powietrza jest postaci:\n",
    "$$ F_o = -\\dfrac{1}{2} c_{\\omega} \\rho A |V| \\vec{V}$$\n",
    "\n",
    "gdzie: \n",
    "\n",
    "$c_{\\omega} \\approx 0,35$ - współczynnik oporu powietrza,\n",
    "\n",
    "$\\rho \\approx 1,2 \\left[\\dfrac{kg}{m^3}\\right]$ - gęstość powietrza$,\n",
    "\n",
    "$A \\left[m^2\\right]$ - pole przekroju poprzecznego piłki,\n",
    "\n",
    "$ \\vec{V} $ - wektor prędkości piłki.\n",
    "\n",
    "----------------------------------------------------------"
   ]
  },
  {
   "cell_type": "markdown",
   "metadata": {},
   "source": [
    "#### ROZWIĄZANIE:\n",
    "\n",
    "A) BEZ OPORÓW POWIETRZA:\n",
    "\n",
    "- w poziomie OX : $\\quad m\\vec{a_x} = 0 \\iff m \\dfrac{dv_x}{dt} = 0 \\iff m \\dfrac{d^2x}{d^2t} = 0 \\quad \\implies \\dfrac{d^2x}{d^2t} = 0$\n",
    "\n",
    "Weźmy: $\\quad x_0 = x, \\quad x_1 = x' \\implies x'_0 = x' = x_1. \\quad$ \n",
    "\n",
    "Zatem:\n",
    "$$\n",
    "F(t, x) =\n",
    "\\begin{bmatrix}\n",
    "x_0' \\\\\n",
    "x_1'\n",
    "\\end{bmatrix}\n",
    "=\n",
    "\\begin{bmatrix}\n",
    "x_1 \\\\\n",
    "0\n",
    "\\end{bmatrix}\n",
    "$$\n",
    "\n",
    "$\\quad$\n",
    "- w pione OY : $\\quad m\\vec{a_y} = -mg \\iff m \\dfrac{dv_y}{dt} = -mg \\iff m \\dfrac{d^2y}{d^2t} = -mg \\quad \\implies \\dfrac{d^2y}{d^2t} = -g$\n",
    "\n",
    "Weźmy: $\\quad y_0 = y, \\quad y_1 = y' \\implies y'_0 = y' = y_1. \\quad$ \n",
    "\n",
    "Zatem:\n",
    "$$\n",
    "F(t, y) =\n",
    "\\begin{bmatrix}\n",
    "y_0' \\\\\n",
    "y_1'\n",
    "\\end{bmatrix}\n",
    "=\n",
    "\\begin{bmatrix}\n",
    "y_1 \\\\\n",
    "-g\n",
    "\\end{bmatrix}\n",
    "$$"
   ]
  },
  {
   "cell_type": "code",
   "execution_count": 52,
   "metadata": {},
   "outputs": [],
   "source": [
    "def Fx_noAir(t, x_conditions):\n",
    "    x0, x1 = x_conditions\n",
    "    F = np.zeros(2)\n",
    "    F[0] = x1\n",
    "    F[1] = 0\n",
    "    return F\n",
    "\n",
    "def Fy_noAir(t, y_conditions):\n",
    "    g = 9.81\n",
    "    y0, y1 = y_conditions\n",
    "    F = np.zeros(2)\n",
    "    F[0] = y1\n",
    "    F[1] = -g\n",
    "    return F"
   ]
  },
  {
   "cell_type": "code",
   "execution_count": 53,
   "metadata": {},
   "outputs": [],
   "source": [
    "def simulate_noAir(v0, angle, tStart, tStop, h = 0.01):\n",
    "    angle_rad = np.radians(angle)\n",
    "    vx0 = v0 * np.cos(angle_rad)\n",
    "    vy0 = v0 * np.sin(angle_rad)\n",
    "\n",
    "    t_x, x_values, _ = RK_4th_2nd_ODE_v2(Fx_noAir, [0, vx0], tStart, tStop, h)\n",
    "    t_y, y_values, _ = RK_4th_2nd_ODE_v2(Fy_noAir, [0, vy0], tStart, tStop, h)\n",
    "\n",
    "    for i, yi in enumerate(y_values):\n",
    "        if yi<0:\n",
    "            return t_x[:i], x_values[:i], y_values[:i]\n",
    "\n",
    "    return t_x, x_values, y_values"
   ]
  },
  {
   "cell_type": "markdown",
   "metadata": {},
   "source": [
    "B) Z OPORAMI POWIETRZA:\n",
    "\n",
    "- w poziomie OX : $\\quad m\\vec{a_x} = -F_o \\iff m \\dfrac{dv_x}{dt} = -F_{o_x} \\iff m \\dfrac{d^2x}{d^2t} = -F_{o_x} \\quad \\implies \\dfrac{d^2x}{d^2t} = -\\dfrac{1}{m}F_{o_x}$\n",
    "\n",
    "Weźmy: $\\quad x_0 = x, \\quad x_1 = x' \\implies x'_0 = x' = x_1. \\quad$ \n",
    "\n",
    "Zatem:\n",
    "$$\n",
    "F(t, x) =\n",
    "\\begin{bmatrix}\n",
    "x_0' \\\\\n",
    "x_1'\n",
    "\\end{bmatrix}\n",
    "=\n",
    "\\begin{bmatrix}\n",
    "x_1 \\\\\n",
    "-\\dfrac{1}{m}F_{o_x}\n",
    "\\end{bmatrix}\n",
    "$$\n",
    "\n",
    "$\\quad$\n",
    "\n",
    "- w pione OY : $\\quad m\\vec{a_y} = -mg - F_{o_y} \\iff m \\dfrac{dv_y}{dt} = -mg - F_{o_y} \\iff m \\dfrac{d^2y}{d^2t} = -mg - F_{o_y} \\quad \\implies \\dfrac{d^2y}{d^2t} = -g-\\dfrac{1}{m}F_{o_y}$\n",
    "\n",
    "Weźmy: $\\quad y_0 = y, \\quad y_1 = y' \\implies y'_0 = y' = y_1. \\quad$ \n",
    "\n",
    "Zatem:\n",
    "$$\n",
    "F(t, y) =\n",
    "\\begin{bmatrix}\n",
    "y_0' \\\\\n",
    "y_1'\n",
    "\\end{bmatrix}\n",
    "=\n",
    "\\begin{bmatrix}\n",
    "y_1 \\\\\n",
    "\\\\\n",
    "-g-\\dfrac{1}{m} F_{o_y}\n",
    "\\end{bmatrix}\n",
    "$$"
   ]
  },
  {
   "cell_type": "code",
   "execution_count": 54,
   "metadata": {},
   "outputs": [],
   "source": [
    "def air_resistance(cw, rho, A, vx, vy):\n",
    "    v = np.sqrt(vx**2 + vy**2)\n",
    "    return -0.5 * cw * rho * A * v\n",
    "\n",
    "def Fx_withAir(t, x_conditions, cw, rho, A, vx, vy, m):\n",
    "    x0, x1 = x_conditions\n",
    "    F = np.zeros(2)\n",
    "    F[0] = x1\n",
    "    F[1] = air_resistance(cw, rho, A, vx, vy) * vx / m\n",
    "    return F\n",
    "\n",
    "def Fy_withAir(t, y_conditions, cw, rho, A, vx, vy, m):\n",
    "    y0, y1 = y_conditions\n",
    "    F = np.zeros(2)\n",
    "    F[0] = y1\n",
    "    F[1] = -g + air_resistance(cw, rho, A, vx, vy) * vy / m\n",
    "    return F"
   ]
  },
  {
   "cell_type": "code",
   "execution_count": 55,
   "metadata": {},
   "outputs": [],
   "source": [
    "def simulate_withAir(v0, angle, func_params, tStart, tStop, h=0.01):\n",
    "    angle_rad = np.radians(angle)\n",
    "    vx0 = v0 * np.cos(angle_rad)\n",
    "    vy0 = v0 * np.sin(angle_rad)\n",
    "\n",
    "    cw, rho, A, m = func_params\n",
    "\n",
    "    t_x, x_values, _ = RK_4th_2nd_ODE(Fx_withAir, (cw, rho, A, vx0, vy0, m), [0, vx0], tStart, tStop, h)\n",
    "    _, y_values, _ = RK_4th_2nd_ODE(Fy_withAir, (cw, rho, A, vx0, vy0, m), [0, vy0], tStart, tStop, h)\n",
    "\n",
    "    for i, y in enumerate(y_values):\n",
    "        if y < 0:\n",
    "            return t_x[:i], x_values[:i], y_values[:i]\n",
    "\n",
    "    return t_x, x_values, y_values"
   ]
  },
  {
   "cell_type": "code",
   "execution_count": 56,
   "metadata": {},
   "outputs": [],
   "source": [
    "tStart = 0\n",
    "tStop = 10\n",
    "rho = 1.2\n",
    "cw = 0.35\n",
    "g = 9.81"
   ]
  },
  {
   "cell_type": "code",
   "execution_count": 57,
   "metadata": {},
   "outputs": [],
   "source": [
    "v01 = 10\n",
    "angle1 = 45  \n",
    "m1 = 0.145  \n",
    "A1 = 0.0042"
   ]
  },
  {
   "cell_type": "code",
   "execution_count": 58,
   "metadata": {},
   "outputs": [],
   "source": [
    "t1_noAir, x1_noAir, y1_noAir = simulate_noAir(v01, angle1, tStart, tStop)"
   ]
  },
  {
   "cell_type": "code",
   "execution_count": 59,
   "metadata": {},
   "outputs": [],
   "source": [
    "t1_withAir, x1_withAir, y1_withAir = simulate_withAir(v01, angle1, (cw,rho,A1,m1), tStart, tStop)"
   ]
  }
 ],
 "metadata": {
  "kernelspec": {
   "display_name": "Python 3",
   "language": "python",
   "name": "python3"
  },
  "language_info": {
   "codemirror_mode": {
    "name": "ipython",
    "version": 3
   },
   "file_extension": ".py",
   "mimetype": "text/x-python",
   "name": "python",
   "nbconvert_exporter": "python",
   "pygments_lexer": "ipython3",
   "version": "3.12.5"
  }
 },
 "nbformat": 4,
 "nbformat_minor": 2
}
