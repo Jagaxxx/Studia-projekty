{
 "cells": [
  {
   "cell_type": "markdown",
   "metadata": {},
   "source": [
    "# PIERWIASTKI FUNKCJI"
   ]
  },
  {
   "cell_type": "code",
   "execution_count": 6,
   "metadata": {},
   "outputs": [],
   "source": [
    "from typing import Callable, List, Tuple\n",
    "import numpy as np\n",
    "import scipy.linalg"
   ]
  },
  {
   "cell_type": "markdown",
   "metadata": {},
   "source": [
    "### 1) metoda bisekcji"
   ]
  },
  {
   "cell_type": "code",
   "execution_count": 2,
   "metadata": {},
   "outputs": [],
   "source": [
    "def bisection(ab: Tuple[float, float], func: Callable[[float], float], eps: float = 10**-9, n: int = 50) -> float:\n",
    "    a, b = ab\n",
    "    fa, fb = func(a), func(b)\n",
    "    if fa * fb > 0:\n",
    "        raise ValueError(\"W tym przedziale nie ma miejsc zerowych\")\n",
    "    count +=1\n",
    "    for n_i in range(n):\n",
    "        x0 = (a + b) / 2\n",
    "        fx0 = func(x0)\n",
    "        if np.abs(a - x0) < eps or np.abs(fx0) < eps:\n",
    "            return x0, n_i + 1\n",
    "        elif fx0 * fa < 0:\n",
    "            b = x0\n",
    "        else:\n",
    "            a = x0\n",
    "            fa = fx0"
   ]
  },
  {
   "cell_type": "markdown",
   "metadata": {},
   "source": [
    "### 2) metoda siecznych\n",
    "\n",
    "$$ x_{k+1} = x_k - \\dfrac{f(x_k)(x_k-x_{k-1})}{f(x_k)-f(x_{k-1})} = \\dfrac{f(x_k)x_{k-1}-f(x_{k-1})x_k}{f(x_k)-f(x_{k-1})}$$"
   ]
  },
  {
   "cell_type": "code",
   "execution_count": 3,
   "metadata": {},
   "outputs": [],
   "source": [
    "def sieczne(ab: Tuple[float, float], x1: float, x2: float, func: Callable[[float], float], eps: float = 10**-9, n: int = 50,) -> float:\n",
    "    a, b = ab[0], ab[1]\n",
    "    fa, fb = func(a), func(b)\n",
    "    if fa * fb > 0:\n",
    "        raise ValueError(\"W tym przedziale nie ma miejsc zerowych\")\n",
    "    for n_i in range(n):\n",
    "        f1, f2 = func(x1), func(x2)\n",
    "        x0 = (f1 * x2 - f2 * x1) / (f1 - f2)\n",
    "        fx0 = func(x0)\n",
    "        if np.abs(x2 - x0) < eps or np.abs(fx0) < eps:\n",
    "            return x0, n_i + 1\n",
    "        x1, x2 = x2, x0"
   ]
  },
  {
   "cell_type": "markdown",
   "metadata": {},
   "source": [
    "### 3) metoda Newtona\n",
    "$$x_{n+1} = x_n - \\dfrac{f(x_n)}{f'(x_n)}$$"
   ]
  },
  {
   "cell_type": "code",
   "execution_count": 4,
   "metadata": {},
   "outputs": [],
   "source": [
    "def newton(ab: tuple[float, float], x0: float, func: Callable[[float], float], dfunc: Callable[[float], float], eps: float = 10**-9, n: int = 50) -> float:\n",
    "    a, b = ab[0], ab[1]\n",
    "    fa, fb = func(a), func(b)\n",
    "    if fa * fb > 0:\n",
    "        raise ValueError(\"W tym przedziale nie ma miejsc zerowych\")\n",
    "    for n_i in range(n):\n",
    "        fx0 = func(x0)\n",
    "        if np.abs(fx0) < eps:\n",
    "            return x0, n_i + 1\n",
    "        f1, x1 = dfunc(x0), x0\n",
    "        x0 = x0 - fx0 / f1\n",
    "        if np.abs(x1 - x0) < eps:\n",
    "            return x0, n_i + 1"
   ]
  },
  {
   "cell_type": "markdown",
   "metadata": {},
   "source": [
    "### 4) uogólniona metoda Newtona\n",
    "\n",
    "$$\\vec{x}_{n+1} = \\vec{x_n} - (D\\vec{f}(x_n))^{-1} \\vec{f}(\\vec{x}_n)$$\n",
    "\n",
    "\n",
    "$$\n",
    "D\\vec{f}(\\vec{x}) = \n",
    "\\begin{bmatrix}\n",
    "\\dfrac{\\partial f_1}{\\partial x}(x) & \\dfrac{\\partial f_1}{\\partial y}(x) \\\\\n",
    "\\\\\n",
    "\\dfrac{\\partial f_2}{\\partial x}(x) & \\dfrac{\\partial f_2}{\\partial y}(x)\n",
    "\\end{bmatrix}\n",
    "$$\n"
   ]
  },
  {
   "cell_type": "code",
   "execution_count": null,
   "metadata": {},
   "outputs": [],
   "source": [
    "def newton_v2(x0: float, y0: float, func: Callable, dfunc: Callable, n:  int = 100, eps: float = 10**-9) -> Tuple[float, int]:\n",
    "    xn = np.array([x0, y0], dtype=float)\n",
    "    for iter in range(n):\n",
    "        x = xn.copy()\n",
    "        f1, f2 = func(x[0], x[1])\n",
    "        f_vector = np.array([f1, f2])\n",
    "\n",
    "        Df = dfunc(x[0], x[1])\n",
    "        Df_inv = scipy.linalg.inv(Df)\n",
    "\n",
    "        if (np.abs(f1) and np.abs(f2)) < eps:\n",
    "            return xn, iter + 1\n",
    "        xn = x - Df_inv @ f_vector"
   ]
  },
  {
   "cell_type": "markdown",
   "metadata": {},
   "source": [
    "### 5) pierwiastki wielomianu - metoda Laguerre'a\n",
    "\n",
    "$$z_{k+1} = z_k - \\dfrac{n w(z_k)}{x'(z_k) \\pm \\sqrt{H(z_k)}}$$\n",
    "\n",
    "gdzie: $\\quad H(z_k) = (n-1)^2 [w'(z_k)]^2 - n(n-1)w(z_k) w''(z_k)$"
   ]
  },
  {
   "cell_type": "code",
   "execution_count": null,
   "metadata": {},
   "outputs": [],
   "source": [
    "# coeff - współczynniki wielomianu od najmniejszego do największego stopnia\n",
    "\n",
    "def wiel(coeff: List[complex], x: float) -> Tuple[complex, complex, complex]:\n",
    "    n = len(coeff) - 1\n",
    "    w = 0.0 + 0.0j\n",
    "    dw = 0.0 + 0.0j\n",
    "    d2w = 0.0 + 0.0j\n",
    "\n",
    "    for i in range(n + 1):\n",
    "        w += coeff[i] * x**i\n",
    "        if i > 0:\n",
    "            dw += coeff[i] * i * x ** (i - 1)\n",
    "        if i > 1:\n",
    "            d2w += coeff[i] * i * (i - 1) * x ** (i - 2)\n",
    "\n",
    "    return w, dw, d2w"
   ]
  },
  {
   "cell_type": "code",
   "execution_count": null,
   "metadata": {},
   "outputs": [],
   "source": [
    "def laguerre(coeff: List[complex], eps: float, iter_num: int = 100) -> complex:\n",
    "    z = 0\n",
    "    n = len(coeff) - 1\n",
    "    for iter in range(iter_num):\n",
    "        w, dw, d2w = wiel(coeff, z)\n",
    "\n",
    "        if np.abs(w) < eps:\n",
    "            return z\n",
    "\n",
    "        H_sqrt = np.sqrt((n - 1) ** 2 * (dw) ** 2 - n * (n - 1) * w * d2w)\n",
    "        if np.abs(dw - H_sqrt) > np.abs(dw + H_sqrt):\n",
    "            dd = n * w / (dw - H_sqrt)\n",
    "        else:\n",
    "            dd = n * w / (dw + H_sqrt)\n",
    "        if np.abs(dd) < eps:\n",
    "            return z\n",
    "        z = z - dd"
   ]
  },
  {
   "cell_type": "code",
   "execution_count": null,
   "metadata": {},
   "outputs": [],
   "source": [
    "def horner(coeff: List[complex], root: complex) -> List[complex]:\n",
    "    n = len(coeff)\n",
    "    c = np.zeros(n, dtype=complex)\n",
    "    c[-2] = coeff[-1]\n",
    "    for i in range(n - 3, -1, -1):\n",
    "        c[i] = root * c[i + 1] + coeff[i + 1]\n",
    "    return c"
   ]
  },
  {
   "cell_type": "code",
   "execution_count": null,
   "metadata": {},
   "outputs": [],
   "source": [
    "def find_roots(coeff: List[complex], eps: float, iter_num: int = 100) -> np.ndarray:\n",
    "    n = len(coeff) - 1\n",
    "    roots = np.zeros(n, dtype=complex)\n",
    "    for i in range(n):\n",
    "        z = laguerre(coeff, eps, iter_num)\n",
    "        roots[i] = z\n",
    "        coeff = horner(coeff, z)\n",
    "    return roots"
   ]
  }
 ],
 "metadata": {
  "kernelspec": {
   "display_name": "Python 3",
   "language": "python",
   "name": "python3"
  },
  "language_info": {
   "codemirror_mode": {
    "name": "ipython",
    "version": 3
   },
   "file_extension": ".py",
   "mimetype": "text/x-python",
   "name": "python",
   "nbconvert_exporter": "python",
   "pygments_lexer": "ipython3",
   "version": "3.12.5"
  }
 },
 "nbformat": 4,
 "nbformat_minor": 2
}
