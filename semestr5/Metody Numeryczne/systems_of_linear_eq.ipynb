{
 "cells": [
  {
   "cell_type": "markdown",
   "metadata": {},
   "source": [
    "## ROZWIĄZYWANIE UKŁADÓW RÓWNAŃ LINIOWYCH \n",
    "\n",
    "### $A \\vec{x} = \\vec{b}, \\,$  gdzie: $A$ - macierz"
   ]
  },
  {
   "cell_type": "code",
   "execution_count": 1,
   "metadata": {},
   "outputs": [],
   "source": [
    "import numpy as np\n",
    "import scipy.linalg"
   ]
  },
  {
   "cell_type": "markdown",
   "metadata": {},
   "source": [
    "### 1) metoda eliminacji Gaussa z częściowym wyborem elementu podstawowego\n",
    "\n",
    "Szukamy takiego elementu $|a_{i_k k}^{(k)}|$, żeby:\n",
    "$$\n",
    "|a_{i_k k}^{(k)}| = \\max\\limits_{k \\leq i \\leq n} |a_{ik}^{(k)}|\n",
    "$$\n",
    "\n",
    "\n",
    "Następnie w macierzy $A^{(k)}$ zamieniamy wiersze o numerach $i_k$ oraz $k$, a w wektorze $b^{(k)}$ składowe o takich samych numerach. "
   ]
  },
  {
   "cell_type": "code",
   "execution_count": 2,
   "metadata": {},
   "outputs": [],
   "source": [
    "def swapping(M: np.ndarray, bb: np.ndarray) -> tuple[np.ndarray, np.ndarray, int]:\n",
    "    matrix = M.copy()\n",
    "    b = bb.copy()\n",
    "    n = len(matrix)\n",
    "    count_swapped = 0\n",
    "    for i in range(n):\n",
    "        max_el = np.abs(matrix[i, i])\n",
    "        for m in range(i+1, n):\n",
    "            if max_el < np.abs(matrix[m, i]):\n",
    "                max_el = np.abs(matrix[m, i])\n",
    "                matrix[[i, m]] = matrix[[m, i]]\n",
    "                b[[i, m]] = b[[m, i]]\n",
    "                count_swapped +=1 \n",
    "\n",
    "        for j in range(i+1, n):\n",
    "            k = matrix[j, i] / matrix[i, i]\n",
    "            matrix[j] = matrix[j] - k * matrix[i]\n",
    "            b[j] = b[j] - k * b[i]\n",
    "\n",
    "    return matrix, b, count_swapped"
   ]
  },
  {
   "cell_type": "code",
   "execution_count": 3,
   "metadata": {},
   "outputs": [],
   "source": [
    "def solve(M: np.ndarray, bb: np.ndarray) -> np.ndarray:\n",
    "    matrix = M.copy()\n",
    "    b = bb.copy()\n",
    "    final_matrix, final_b, _ = swapping(matrix, b)\n",
    "    n = len(final_matrix)\n",
    "    x = np.zeros_like(final_b)\n",
    "\n",
    "    for i in range(n-1, -1, -1):\n",
    "        x[i] = final_b[i]\n",
    "        for j in range(i + 1, n):\n",
    "            x[i] = x[i] - final_matrix[i][j] * x[j]\n",
    "  \n",
    "        x[i] = x[i] / final_matrix[i][i] \n",
    "\n",
    "    return x"
   ]
  },
  {
   "cell_type": "markdown",
   "metadata": {},
   "source": [
    "### 2) metoda Gaussa-Seidla\n",
    "$$x^{n+1} = D^{-1}b - D^{-1}L x^{n+1} - D^{-1}Ux^{n}$$\n",
    "\n",
    "gdzie: $D$ - nieosobliwa macierz diagonalna, $U$ - macierz górnotrójkątna, $L$ - macierz dolnotrójkątna"
   ]
  },
  {
   "cell_type": "code",
   "execution_count": 4,
   "metadata": {},
   "outputs": [],
   "source": [
    "def GS(matrix: np.ndarray, b: np.ndarray, iter_num: int = 1000, tol: float = 10**(-9)):\n",
    "    n = len(b)\n",
    "    x = np.zeros_like(b, dtype=np.float64) \n",
    "\n",
    "    D = np.diag(np.diag(matrix)) \n",
    "    L = np.tril(matrix, k=-1)   \n",
    "    U = np.triu(matrix, k=1)    \n",
    "\n",
    "    D_inv = np.diag(1 / np.diag(D))\n",
    "    T = -D_inv @ (L + U)\n",
    "    spec = np.max(np.abs(np.linalg.eigvals(T)))\n",
    "\n",
    "    if spec >= 1:\n",
    "        raise ValueError(\"Brak zbieżności - promień spektralny ≥ 1\")\n",
    "\n",
    "    for _ in range(iter_num):\n",
    "        x_old = x.copy()\n",
    "\n",
    "        for i in range(n):\n",
    "            sum_L = np.dot(L[i, :], x) \n",
    "            sum_U = np.dot(U[i, :], x_old)\n",
    "            x[i] = D_inv[i, i] * (b[i] - sum_L - sum_U)\n",
    "\n",
    "        if np.linalg.norm(x - x_old, ord=np.inf) < tol:\n",
    "            return x\n",
    "\n",
    "    return x"
   ]
  },
  {
   "cell_type": "markdown",
   "metadata": {},
   "source": [
    "### 3) wyznacznik macierzy"
   ]
  },
  {
   "cell_type": "code",
   "execution_count": 5,
   "metadata": {},
   "outputs": [],
   "source": [
    "def det_matrix(M: np.ndarray) -> float:\n",
    "    matrix = M.copy()\n",
    "    n = len(matrix)\n",
    "    swapped_matrix, _, det_count = swapping(matrix, np.eye(n))\n",
    "    det = 1\n",
    "    for i in range(n):\n",
    "        det *= swapped_matrix[i][i]\n",
    "    det *= (-1)** det_count\n",
    "    return det"
   ]
  },
  {
   "cell_type": "markdown",
   "metadata": {},
   "source": [
    "### 4) macierz odwrotna"
   ]
  },
  {
   "cell_type": "code",
   "execution_count": 6,
   "metadata": {},
   "outputs": [],
   "source": [
    "def inverse(M: np.ndarray) -> np.ndarray:\n",
    "    matrix = M.copy()\n",
    "    n = len(matrix)\n",
    "    swapped_matrix, inverse_matrix, _ = swapping(matrix, np.eye(n))\n",
    "    detM = det_matrix(matrix)\n",
    "    if detM == 0:\n",
    "        raise ValueError('macierz osobliwa -> macierz odwrotna nie istnieje !')\n",
    "    for i in range(n-1, -1, -1):\n",
    "        for j in range(i-1, -1, -1):\n",
    "            k = swapped_matrix[j][i]/ swapped_matrix[i][i]\n",
    "            swapped_matrix[j] = swapped_matrix[j] - k*swapped_matrix[i]\n",
    "            inverse_matrix[j] = inverse_matrix[j] - k*inverse_matrix[i]\n",
    "\n",
    "        p = swapped_matrix[i,i]\n",
    "        swapped_matrix[i] = swapped_matrix[i]/p\n",
    "        inverse_matrix[i] = inverse_matrix[i]/p\n",
    "\n",
    "    return inverse_matrix"
   ]
  }
 ],
 "metadata": {
  "kernelspec": {
   "display_name": "Python 3",
   "language": "python",
   "name": "python3"
  },
  "language_info": {
   "codemirror_mode": {
    "name": "ipython",
    "version": 3
   },
   "file_extension": ".py",
   "mimetype": "text/x-python",
   "name": "python",
   "nbconvert_exporter": "python",
   "pygments_lexer": "ipython3",
   "version": "3.12.5"
  }
 },
 "nbformat": 4,
 "nbformat_minor": 2
}
