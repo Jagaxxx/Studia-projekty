{
 "cells": [
  {
   "cell_type": "markdown",
   "metadata": {},
   "source": [
    "## CAŁKOWANIE NUMERYCZNE"
   ]
  },
  {
   "cell_type": "code",
   "execution_count": 1,
   "metadata": {},
   "outputs": [],
   "source": [
    "import numpy as np\n",
    "from typing import Callable, Tuple, List"
   ]
  },
  {
   "cell_type": "markdown",
   "metadata": {},
   "source": [
    "### 1) metoda trapezów\n",
    "$$I = \\sum_{i=0}^{n-1} I_i = \\dfrac{h}{2} \\sum_{i=0}^{n-1} [f(x_i)+f(x_{i+1})]$$\n",
    "\n",
    "gdzie: $\\quad h = \\dfrac{b-a}{n}$"
   ]
  },
  {
   "cell_type": "code",
   "execution_count": 2,
   "metadata": {},
   "outputs": [],
   "source": [
    "def trapez_integration(func: Callable[[float], float], a: float, b: float, n: int) -> float:\n",
    "    h = (b - a) / n \n",
    "    x = np.linspace(a, b, n+1)\n",
    "    y = func(x)        \n",
    "    result = np.sum(y[:-1] + y[1:]) * h/2\n",
    "    return result"
   ]
  },
  {
   "cell_type": "markdown",
   "metadata": {},
   "source": [
    "#### 2) metoda Simpsona\n",
    "$$S(f) = \\sum_{i=0}^{\\frac{n}{2}-1} S_{2i}(f) = \\dfrac{h}{3} \\sum_{i=0}^{\\frac{n}{2}-1} [f_{2i}+4f_{2i+1}+f_{2i+2}] =  \\dfrac{h}{3} \\sum_{i=0}^{\\frac{n}{2}-1} [f_{0}+ f_n+ 2(f_2+f_4+\\ldots+f_{n-2})+4(f_1+f_3+\\ldots+f_{n-1})]$$\n",
    "\n",
    "gdzie: $\\quad h = \\dfrac{b-a}{n}$, $\\quad n - \\text{liczba węzłów,} \\textbf{parzyste !}$"
   ]
  },
  {
   "cell_type": "markdown",
   "metadata": {},
   "source": [
    "Warto pamiętać, że dokładność wzoru Simpsona zależy od tego, jak dobrze funkcja pasuje do parabolicznej aproksymacji. "
   ]
  },
  {
   "cell_type": "code",
   "execution_count": 3,
   "metadata": {},
   "outputs": [],
   "source": [
    "def simp_intergration(func: Callable[[float], float], a: float, b: float, n: int) -> float:\n",
    "    h = (b-a)/n\n",
    "    x = np.linspace(a, b, n+1)\n",
    "    y = func(x)\n",
    "    if n%2 != 0:\n",
    "        raise ValueError('n musi być parzyste !')\n",
    "    result = h/3 * np.sum(y[0:-1:2] + 4*y[1::2] + y[2::2])\n",
    "    return result"
   ]
  },
  {
   "cell_type": "markdown",
   "metadata": {},
   "source": [
    "### 3) metoda Gaussa - Legendre'a:\n",
    "\n",
    "#### a) wielomian Legendre'a:\n",
    "$ P_{n+1}(x) = \\dfrac{2n+1}{n+1} x P_n(x) - \\dfrac{n}{n+1} P_{n-1}(x), \\quad \\text{gdzie} \\quad P_0 = 1, \\quad P_1 = x$.\n",
    "\n",
    "$ P'_{n+1}(x) = \\dfrac{n}{x^2-1} \\left(x P_n(x) - P_{n-1}(x)\\right)$\n",
    "\n",
    "#### b) kwadratura Gaussa-Legendre'a:\n",
    "$$ A_i = \\dfrac{2}{(1-x_i^2)[P^\\prime_{n+1}(x_i)]^2} $$\n",
    "\n",
    "\n",
    "#### c) zmiana zakresu $(a,b)$, na zakres \"standardowy\" $(-1,1)$:\n",
    "$$x = \\dfrac{b+a}{2} + \\dfrac{b-a}{2} \\xi \\quad \\Rightarrow \\quad dx = \\dfrac{b-a}{2} d\\xi$$\n",
    "\n",
    "#### d) ostatecznie wzór:\n",
    "$$ \\int_a^b f(x) dx = \\dfrac{b-a}{2} \\sum _{i=1}^n A_i f(x_i) $$"
   ]
  },
  {
   "cell_type": "code",
   "execution_count": 4,
   "metadata": {},
   "outputs": [],
   "source": [
    "def wiel_legendre(x: float, n: int) -> Tuple[float, float]:\n",
    "    p = np.zeros(n + 1)\n",
    "    p[0], p[1] = 1, x \n",
    "    for i in range(2, n + 1):\n",
    "        p[i] = ((2 * i - 1) * x * p[i - 1] - (i - 1) * p[i - 2]) / i\n",
    "    dp = n / (x**2-1) * (x * p[n] - p[n - 1])\n",
    "    return p[n], dp"
   ]
  },
  {
   "cell_type": "code",
   "execution_count": 5,
   "metadata": {},
   "outputs": [],
   "source": [
    "def gauss_legendre_integral(func: Callable[[float], float], a: float, b: float, n: int) -> float:\n",
    "    ksi = np.zeros(n)\n",
    "    Ai = np.zeros(n)\n",
    "\n",
    "    for i in range(n):\n",
    "        x0 = np.cos(np.pi * (i + 0.75) / (n + 0.5)) \n",
    "        for _ in range(10):\n",
    "            p, dp = wiel_legendre(x0, n)\n",
    "            x0 -= p / dp\n",
    "        ksi[i] = x0\n",
    "        Ai[i] = 2 / ((1 - x0**2) * dp**2)\n",
    "\n",
    "    x = (b + a) / 2 + (b - a) / 2 * ksi\n",
    "    integral = (b-a)/2 * np.sum(Ai * func(x))\n",
    "    return integral"
   ]
  },
  {
   "cell_type": "markdown",
   "metadata": {},
   "source": [
    "## RÓŻNICZKOWANIE"
   ]
  },
  {
   "cell_type": "markdown",
   "metadata": {},
   "source": [
    "### 1) ekstrapolacja Richardsona\n",
    "- $D_{f1}: \\quad$ $D_{f1} = \\dfrac{f(x+h)-f(x)}{h}$\n",
    "\n",
    "- $D_{c2}: \\quad$\n",
    "$D_{c2} = \\dfrac{f(x+h)-f(x-h)}{2h}$\n",
    "\n",
    "- $D_{c4}: \\quad$ $D_{c4} = \\dfrac{2^2 D_{c2}(x,h) - D_{c2}(x,2h)}{3} = \\dfrac{8f(x+h)-8f(x-h)-f(x+2h)+f(x-2h)}{12h}$"
   ]
  },
  {
   "cell_type": "code",
   "execution_count": null,
   "metadata": {},
   "outputs": [],
   "source": [
    "def Df1(func: Callable[[float], float], x: float, h: float) -> float:\n",
    "    return (func(x + h) - func(x)) / (h)"
   ]
  },
  {
   "cell_type": "code",
   "execution_count": null,
   "metadata": {},
   "outputs": [],
   "source": [
    "def Dc2(func: Callable[[float], float], x: float, h: float) -> float:\n",
    "    return (func(x + h) - func(x - h)) / (2 * h)"
   ]
  },
  {
   "cell_type": "code",
   "execution_count": null,
   "metadata": {},
   "outputs": [],
   "source": [
    "def Dc4(func: Callable[[float], float], x: float, h: float) -> float:\n",
    "    return (-func(x + 2*h) +8*func(x+h) - 8*func(x - h)+ func(x-2*h)) / (12 * h)"
   ]
  },
  {
   "cell_type": "markdown",
   "metadata": {},
   "source": [
    "### 2) wzór trójpunktowy:\n",
    "$$f'(x) = \\dfrac{f(x+h)-f(x-h)}{2h}$$\n",
    "\n",
    "$$f''(x) = \\dfrac{f(x+h)-2f(x)+f(x-h)}{h^2}$$"
   ]
  }
 ],
 "metadata": {
  "kernelspec": {
   "display_name": "Python 3",
   "language": "python",
   "name": "python3"
  },
  "language_info": {
   "codemirror_mode": {
    "name": "ipython",
    "version": 3
   },
   "file_extension": ".py",
   "mimetype": "text/x-python",
   "name": "python",
   "nbconvert_exporter": "python",
   "pygments_lexer": "ipython3",
   "version": "3.12.5"
  }
 },
 "nbformat": 4,
 "nbformat_minor": 2
}
