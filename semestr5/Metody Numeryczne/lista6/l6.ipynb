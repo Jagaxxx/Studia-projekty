{
 "cells": [
  {
   "cell_type": "markdown",
   "metadata": {},
   "source": [
    "# LISTA 6"
   ]
  },
  {
   "cell_type": "code",
   "execution_count": 2721,
   "metadata": {},
   "outputs": [],
   "source": [
    "import numpy as np\n",
    "import matplotlib.pyplot as plt\n",
    "import scipy.integrate\n",
    "import pandas as pd\n",
    "from typing import Callable, Tuple, List"
   ]
  },
  {
   "cell_type": "code",
   "execution_count": 2722,
   "metadata": {},
   "outputs": [],
   "source": [
    "def interpol_newton(x: float, xdata: np.ndarray, ydata: np.ndarray) -> float:\n",
    "    n = len(xdata)\n",
    "\n",
    "    fxx = np.copy(ydata)\n",
    "    omega = 1.0\n",
    "    result = fxx[0]\n",
    "    for k in range(n-1):\n",
    "        for i in range(n - k - 1):\n",
    "            fxx[i] = (fxx[i + 1] - fxx[i]) / (xdata[i + k + 1] - xdata[i])\n",
    "        \n",
    "        omega *= (x - xdata[k])\n",
    "        result += fxx[0] * omega \n",
    "\n",
    "    return result"
   ]
  },
  {
   "cell_type": "markdown",
   "metadata": {},
   "source": [
    "### ZADANIE 1\n",
    "\n",
    "<img src=\"z1.png\" alt=\"zadanie1\" width=\"550\"/>"
   ]
  },
  {
   "cell_type": "markdown",
   "metadata": {},
   "source": [
    "#### Całkowanie numeryczne - metoda trapezów:\n",
    "$$I = \\sum_{i=0}^{n-1} I_i = \\dfrac{h}{2} \\sum_{i=0}^{n-1} [f(x_i)+f(x_{i+1})]$$\n",
    "\n",
    "gdzie: $\\quad h = \\dfrac{b-a}{n}$"
   ]
  },
  {
   "cell_type": "code",
   "execution_count": 2723,
   "metadata": {},
   "outputs": [],
   "source": [
    "m_ex1 = 2000\n",
    "v_start_ex1 = 1\n",
    "v_end_ex1 = 6\n",
    "\n",
    "v_ex1 = np.array([0, 1.0, 1.8, 2.4, 3.5, 4.4, 5.1, 6.0])  #[m/s]\n",
    "P_ex1 = np.array([0, 4.7, 12.2, 19.0, 31.8, 40.1, 43.8, 43.2]) * 10**3 #[W]"
   ]
  },
  {
   "cell_type": "code",
   "execution_count": 2724,
   "metadata": {},
   "outputs": [],
   "source": [
    "def dt_dv(v: float) -> float:\n",
    "    return m_ex1 * v / interpol_newton(v, v_ex1, P_ex1)"
   ]
  },
  {
   "cell_type": "code",
   "execution_count": 2725,
   "metadata": {},
   "outputs": [],
   "source": [
    "def trapez_integration(func: Callable[[float], float], a: float, b: float, n: int) -> float:\n",
    "    h = (b - a) / n \n",
    "    x = np.linspace(a, b, n+1)\n",
    "    y = func(x)        \n",
    "    result = 0\n",
    "    for i in range(n):\n",
    "        result += y[i] + y[i+1]\n",
    "    result = result * h/2\n",
    "    return result"
   ]
  },
  {
   "cell_type": "code",
   "execution_count": 2726,
   "metadata": {},
   "outputs": [],
   "source": [
    "def trapez_integration_v2(func: Callable[[float], float], a: float, b: float, n: int) -> float:\n",
    "    h = (b - a) / n \n",
    "    x = np.linspace(a, b, n+1)\n",
    "    y = func(x)        \n",
    "    result = np.sum(y[:-1] + y[1:]) * h/2\n",
    "    return result"
   ]
  },
  {
   "cell_type": "code",
   "execution_count": 2727,
   "metadata": {},
   "outputs": [
    {
     "data": {
      "text/plain": [
       "np.float64(1.278966661664824)"
      ]
     },
     "execution_count": 2727,
     "metadata": {},
     "output_type": "execute_result"
    }
   ],
   "source": [
    "n_ex1 = 40\n",
    "delta_t = trapez_integration(dt_dv, v_start_ex1, v_end_ex1, n_ex1)\n",
    "delta_t"
   ]
  },
  {
   "cell_type": "code",
   "execution_count": 2728,
   "metadata": {},
   "outputs": [
    {
     "data": {
      "text/plain": [
       "np.float64(1.2785768413713878)"
      ]
     },
     "execution_count": 2728,
     "metadata": {},
     "output_type": "execute_result"
    }
   ],
   "source": [
    "# wbudowana\n",
    "x_delta = np.linspace(v_start_ex1, v_end_ex1, 100)\n",
    "y_delta = dt_dv(x_delta)\n",
    "delta_scipy = scipy.integrate.trapezoid(y_delta, x_delta)\n",
    "delta_scipy"
   ]
  },
  {
   "cell_type": "markdown",
   "metadata": {},
   "source": [
    "### ZADANIE 2\n",
    "\n",
    "<img src=\"z2.png\" alt=\"zadanie2\" width=\"550\"/>"
   ]
  },
  {
   "cell_type": "markdown",
   "metadata": {},
   "source": [
    "$\\cos(2\\cos^{-1}x) = \\cos(\\cos^{-1}x)^2 - \\sin(\\cos^{-1}x)^2 = \\ldots = 2x^2 - 1$"
   ]
  },
  {
   "cell_type": "markdown",
   "metadata": {},
   "source": [
    "#### Całkowanie numeryczne - metoda Simpsona:\n",
    "$$S(f) = \\sum_{i=0}^{\\frac{n}{2}-1} S_{2i}(f) = \\dfrac{h}{3} \\sum_{i=0}^{\\frac{n}{2}-1} [f_{2i}+4f_{2i+1}+f_{2i+2}] =  \\dfrac{h}{3} \\sum_{i=0}^{\\frac{n}{2}-1} [f_{0}+ f_n+ 2(f_2+f_4+\\ldots+f_{n-2})+4(f_1+f_3+\\ldots+f_{n-1})]$$\n",
    "\n",
    "gdzie: $\\quad h = \\dfrac{b-a}{n}$, $\\quad n - \\textbf{parzyste !}$"
   ]
  },
  {
   "cell_type": "code",
   "execution_count": 2729,
   "metadata": {},
   "outputs": [],
   "source": [
    "def func_ex2(x: float) -> float:\n",
    "    return np.cos(2*(np.arccos(x)))"
   ]
  },
  {
   "cell_type": "code",
   "execution_count": 2730,
   "metadata": {},
   "outputs": [],
   "source": [
    "def func_ex2_v2(x: float) -> float:\n",
    "    return 2*x**2-1"
   ]
  },
  {
   "cell_type": "code",
   "execution_count": 2731,
   "metadata": {},
   "outputs": [
    {
     "data": {
      "image/png": "[encoded data removed]",
      "text/plain": [
       "<Figure size 640x480 with 1 Axes>"
      ]
     },
     "metadata": {},
     "output_type": "display_data"
    }
   ],
   "source": [
    "x_ex2 = np.linspace(-1,1,100)\n",
    "y_ex2 = func_ex2(x_ex2)\n",
    "y_ex2_v2 = func_ex2_v2(x_ex2)\n",
    "\n",
    "plt.plot(x_ex2, y_ex2, label = '$\\\\cos(2\\\\cos^{-1}x)$')\n",
    "plt.plot(x_ex2, y_ex2_v2, color = 'red', linestyle = '--', label = '$2x^2-1$')\n",
    "plt.grid(True, linestyle='--')\n",
    "plt.legend()\n",
    "\n",
    "plt.show()"
   ]
  },
  {
   "cell_type": "markdown",
   "metadata": {},
   "source": [
    "#### Dokładność wzoru Simpsona zależy od tego, jak dobrze funkcja pasuje do parabolicznej aproksymacji. "
   ]
  },
  {
   "cell_type": "code",
   "execution_count": 2732,
   "metadata": {},
   "outputs": [],
   "source": [
    "def simp_intergration(func: Callable[[float], float], a: float, b: float, n: int) -> float:\n",
    "    h = (b-a)/n\n",
    "    x = np.linspace(a, b, n+1)\n",
    "    y = func(x)\n",
    "    result = 0\n",
    "    if n%2 != 0:\n",
    "        raise ValueError('n musi być parzyste !')\n",
    "    k = n//2\n",
    "    for i in range(k):\n",
    "        result += y[2*i]+4*y[2*i+1]+y[2*i+2]\n",
    "    result *= h/3\n",
    "    return result"
   ]
  },
  {
   "cell_type": "code",
   "execution_count": 2733,
   "metadata": {},
   "outputs": [],
   "source": [
    "def simp_intergration_v0(func: Callable[[float], float], a: float, b: float, n: int) -> float:\n",
    "    h = (b-a)/n\n",
    "    x = np.linspace(a, b, n+1)\n",
    "    y = func(x)\n",
    "    if n%2 != 0:\n",
    "        raise ValueError('n musi być parzyste !')\n",
    "    result = h/3 * np.sum(y[0:-1:2] + 4*y[1::2] + y[2::2])\n",
    "    return result"
   ]
  },
  {
   "cell_type": "code",
   "execution_count": 2734,
   "metadata": {},
   "outputs": [
    {
     "data": {
      "text/plain": [
       "np.float64(-0.6666666666666666)"
      ]
     },
     "execution_count": 2734,
     "metadata": {},
     "output_type": "execute_result"
    }
   ],
   "source": [
    "# węzły=3\n",
    "simp_intergration(func = func_ex2, a=-1, b=1, n=2)"
   ]
  },
  {
   "cell_type": "code",
   "execution_count": 2735,
   "metadata": {},
   "outputs": [
    {
     "data": {
      "text/plain": [
       "np.float64(-0.6666666666666665)"
      ]
     },
     "execution_count": 2735,
     "metadata": {},
     "output_type": "execute_result"
    }
   ],
   "source": [
    "# węzły=5\n",
    "simp_intergration(func = func_ex2, a=-1, b=1, n=4)"
   ]
  },
  {
   "cell_type": "code",
   "execution_count": 2736,
   "metadata": {},
   "outputs": [
    {
     "data": {
      "text/plain": [
       "np.float64(-0.6666666666666667)"
      ]
     },
     "execution_count": 2736,
     "metadata": {},
     "output_type": "execute_result"
    }
   ],
   "source": [
    "# węzły=7\n",
    "simp_intergration(func = func_ex2, a=-1, b=1, n=6)"
   ]
  },
  {
   "cell_type": "code",
   "execution_count": 2737,
   "metadata": {},
   "outputs": [],
   "source": [
    "# # wbudowana\n",
    "\n",
    "# x_vals_3 = np.linspace(-1, 1, 2)\n",
    "# x_vals_5 = np.linspace(-1, 1, 4)\n",
    "# x_vals_7 = np.linspace(-1, 1, 6)\n",
    "\n",
    "# I_3_scipy = scipy.integrate.simpson(func_ex2(x_vals_3), x=x_vals_3)\n",
    "# I_5_scipy = scipy.integrate.simpson(func_ex2(x_vals_5), x=x_vals_5)\n",
    "# I_7_scipy = scipy.integrate.simpson(func_ex2(x_vals_7), x=x_vals_7)\n",
    "\n",
    "# I_5_scipy, I_7_scipy"
   ]
  },
  {
   "cell_type": "markdown",
   "metadata": {},
   "source": [
    "### ZADANIE 3\n",
    "\n",
    "<img src=\"z3.png\" alt=\"zadanie3\" width=\"550\"/>"
   ]
  },
  {
   "cell_type": "markdown",
   "metadata": {},
   "source": [
    "$$\\int_1^ \\infty (1+x^4)^{-1} = \\left| x^3 = t\\right| = \\int_{1}^{0} \\left(1+\\left(\\frac{1}{t}\\right)^{4/3}\\right)^{-1} \\cdot \\dfrac{-1}{3t^{4/3}} = -\\dfrac{1}{3}\\int_{1}^{0} \\left(t^{4/3} +1\\right)^{-1} = \\dfrac{1}{3}\\int_{0}^{1} \\left(t^{4/3} +1\\right)^{-1}$$"
   ]
  },
  {
   "cell_type": "code",
   "execution_count": 2738,
   "metadata": {},
   "outputs": [],
   "source": [
    "def func_ex3(x: float) -> float:\n",
    "    return (1+x**4)**(-1)"
   ]
  },
  {
   "cell_type": "code",
   "execution_count": 2739,
   "metadata": {},
   "outputs": [],
   "source": [
    "def func_ex3_v2(t: float) -> float:\n",
    "    return 1 / (3*(1+ t**(4/3)))"
   ]
  },
  {
   "cell_type": "code",
   "execution_count": 2740,
   "metadata": {},
   "outputs": [
    {
     "data": {
      "text/plain": [
       "np.float64(0.24369830404429732)"
      ]
     },
     "execution_count": 2740,
     "metadata": {},
     "output_type": "execute_result"
    }
   ],
   "source": [
    "trapez_integration(func_ex3_v2, a=0, b=1, n=5)"
   ]
  },
  {
   "cell_type": "code",
   "execution_count": 2741,
   "metadata": {},
   "outputs": [
    {
     "data": {
      "text/plain": [
       "np.float64(0.24369830404429735)"
      ]
     },
     "execution_count": 2741,
     "metadata": {},
     "output_type": "execute_result"
    }
   ],
   "source": [
    "# wbudowana\n",
    "x_ex3_scipy = np.linspace(0, 1, 6)\n",
    "y_ex3_scipy = func_ex3_v2(x_ex3_scipy)\n",
    "I_ex3= scipy.integrate.trapezoid(y_ex3_scipy, x_ex3_scipy)\n",
    "I_ex3"
   ]
  },
  {
   "cell_type": "markdown",
   "metadata": {},
   "source": [
    "### ZADANIE 4\n",
    "\n",
    "<img src=\"z4.png\" alt=\"zadanie4\" width=\"550\"/>"
   ]
  },
  {
   "cell_type": "code",
   "execution_count": 2742,
   "metadata": {},
   "outputs": [],
   "source": [
    "def func_T(L, h):\n",
    "    g = 9.81\n",
    "    return 4*np.sqrt(L/g)*h"
   ]
  },
  {
   "cell_type": "code",
   "execution_count": 2743,
   "metadata": {},
   "outputs": [],
   "source": [
    "def func_ex4(theta: float, theta0: int) -> float:\n",
    "    return 1 / np.sqrt(1 - np.sin(theta0 / 2)**2 * np.sin(theta)**2)"
   ]
  },
  {
   "cell_type": "code",
   "execution_count": 2744,
   "metadata": {},
   "outputs": [],
   "source": [
    "def trapez_integration_v2(func: Callable[[float, int], float], theta0: int, a: float, b: float, n: int = 9) -> float:\n",
    "    h = (b - a) / n \n",
    "    x = np.linspace(a, b, n+1)\n",
    "    y = func(x, theta0)        \n",
    "    result = 0\n",
    "    for i in range(n):\n",
    "        result += y[i] + y[i+1]\n",
    "    result = result * h/2\n",
    "    return result"
   ]
  },
  {
   "cell_type": "code",
   "execution_count": 2745,
   "metadata": {},
   "outputs": [],
   "source": [
    "h15 = trapez_integration_v2(func_ex4, theta0= 15*np.pi/180, a=0, b=np.pi/2)\n",
    "h30 = trapez_integration_v2(func_ex4, theta0 = 30*np.pi/180, a=0, b=np.pi/2)\n",
    "h45 = trapez_integration_v2(func_ex4, theta0=45*np.pi/180, a=0, b=np.pi/2)\n",
    "h0 = trapez_integration_v2(func_ex4, theta0=0*np.pi/180, a=0, b=np.pi/2)"
   ]
  },
  {
   "cell_type": "code",
   "execution_count": 2746,
   "metadata": {},
   "outputs": [
    {
     "data": {
      "text/plain": [
       "np.float64(6.343739849219413)"
      ]
     },
     "execution_count": 2746,
     "metadata": {},
     "output_type": "execute_result"
    }
   ],
   "source": [
    "func_T(10, h0)"
   ]
  },
  {
   "cell_type": "code",
   "execution_count": 2747,
   "metadata": {},
   "outputs": [
    {
     "data": {
      "text/plain": [
       "np.float64(6.371021604696848)"
      ]
     },
     "execution_count": 2747,
     "metadata": {},
     "output_type": "execute_result"
    }
   ],
   "source": [
    "func_T(10, h15)"
   ]
  },
  {
   "cell_type": "code",
   "execution_count": 2748,
   "metadata": {},
   "outputs": [
    {
     "data": {
      "text/plain": [
       "np.float64(6.454176732255873)"
      ]
     },
     "execution_count": 2748,
     "metadata": {},
     "output_type": "execute_result"
    }
   ],
   "source": [
    "func_T(10, h30)"
   ]
  },
  {
   "cell_type": "code",
   "execution_count": 2749,
   "metadata": {},
   "outputs": [
    {
     "name": "stdout",
     "output_type": "stream",
     "text": [
      "h(0): 1.5707963267948966\n",
      "h(15): 1.5775516607636664\n",
      "h(30): 1.5981420021125399\n",
      "h(45): 1.6335863074581478\n"
     ]
    }
   ],
   "source": [
    "print('h(0):', h0)\n",
    "print('h(15):', h15)\n",
    "print('h(30):', h30)\n",
    "print('h(45):', h45)"
   ]
  },
  {
   "cell_type": "code",
   "execution_count": 2750,
   "metadata": {},
   "outputs": [
    {
     "data": {
      "text/plain": [
       "1.5707963267948966"
      ]
     },
     "execution_count": 2750,
     "metadata": {},
     "output_type": "execute_result"
    }
   ],
   "source": [
    "np.pi/2"
   ]
  },
  {
   "cell_type": "markdown",
   "metadata": {},
   "source": [
    "### ZADANIE 5\n",
    "\n",
    "<img src=\"z5.png\" alt=\"zadanie5\" width=\"550\"/>"
   ]
  },
  {
   "cell_type": "markdown",
   "metadata": {},
   "source": [
    "#### Wielomian Legendre'a:\n",
    "\n",
    "$ P_{n+1}(x) = \\dfrac{2n+1}{n+1} x P_n(x) - \\dfrac{n}{n+1} P_{n-1}(x), \\quad \\text{gdzie} \\quad P_0 = 1, \\quad P_1 = x$\n",
    "\n",
    "$ \\dfrac{d}{dx} P_{n+1}(x) = \\dfrac{n}{x^2-1} \\left(x P_n(x) - P_{n-1}(x)\\right)$"
   ]
  },
  {
   "cell_type": "markdown",
   "metadata": {},
   "source": [
    "#### Kwadratura Gaussa-Legendre'a:\n",
    "$ A_i = \\dfrac{2}{(1-x_i^2)[P^\\prime_{n+1}(x_i)]^2} $\n",
    "\n",
    "\n",
    "#### Zmianiamy zakres $(a,b)$, na zakres \"standardowy\" $(-1,1)$:\n",
    "$x = \\dfrac{b+a}{2} + \\dfrac{b-a}{2} \\xi \\quad \\Rightarrow \\quad dx = \\dfrac{b-a}{2} d\\xi$\n",
    "\n",
    "#### Ostatecznie:\n",
    "$$ \\int_a^b f(x) dx = \\dfrac{b-a}{2} \\sum _{i=1}^n A_i f(x_i) $$"
   ]
  },
  {
   "cell_type": "code",
   "execution_count": 2751,
   "metadata": {},
   "outputs": [],
   "source": [
    "def func_ex5(x: float) -> float:\n",
    "    return np.log(x) / (x**2-2*x+2)"
   ]
  },
  {
   "cell_type": "code",
   "execution_count": 2752,
   "metadata": {},
   "outputs": [],
   "source": [
    "def wiel_legendre(x: float, n: int) -> Tuple[float, float]:\n",
    "    p = np.zeros(n + 1)\n",
    "    p[0], p[1] = 1, x \n",
    "    for i in range(2, n + 1):\n",
    "        p[i] = ((2 * i - 1) * x * p[i - 1] - (i - 1) * p[i - 2]) / i\n",
    "    dp = n / (x**2-1) * (x * p[n] - p[n - 1])\n",
    "    return p[n], dp"
   ]
  },
  {
   "cell_type": "code",
   "execution_count": 2753,
   "metadata": {},
   "outputs": [],
   "source": [
    "def gauss_legendre_integral(func: Callable[[float], float], a: float, b: float, n: int) -> float:\n",
    "    ksi = np.zeros(n)\n",
    "    Ai = np.zeros(n)\n",
    "\n",
    "    for i in range(n):\n",
    "        x0 = np.cos(np.pi * (i + 0.75) / (n + 0.5)) \n",
    "        for _ in range(10):\n",
    "            p, dp = wiel_legendre(x0, n)\n",
    "            x0 -= p / dp\n",
    "        ksi[i] = x0\n",
    "        Ai[i] = 2 / ((1 - x0**2) * dp**2)\n",
    "\n",
    "    x = (b + a) / 2 + (b - a) / 2 * ksi\n",
    "    integral = (b-a)/2 * np.sum(Ai * func(x))\n",
    "    return integral"
   ]
  },
  {
   "cell_type": "code",
   "execution_count": 2754,
   "metadata": {},
   "outputs": [
    {
     "data": {
      "text/plain": [
       "np.float64(0.606725022862449)"
      ]
     },
     "execution_count": 2754,
     "metadata": {},
     "output_type": "execute_result"
    }
   ],
   "source": [
    "# n = 2\n",
    "gauss_legendre_integral(func_ex5, a=1, b=np.pi, n=2)"
   ]
  },
  {
   "cell_type": "code",
   "execution_count": 2755,
   "metadata": {},
   "outputs": [
    {
     "data": {
      "text/plain": [
       "np.float64(0.5847680362127089)"
      ]
     },
     "execution_count": 2755,
     "metadata": {},
     "output_type": "execute_result"
    }
   ],
   "source": [
    "# n = 4\n",
    "gauss_legendre_integral(func_ex5, a=1, b=np.pi, n=4)"
   ]
  },
  {
   "cell_type": "code",
   "execution_count": 2756,
   "metadata": {},
   "outputs": [
    {
     "data": {
      "text/plain": [
       "0.5849428069312876"
      ]
     },
     "execution_count": 2756,
     "metadata": {},
     "output_type": "execute_result"
    }
   ],
   "source": [
    "# wbudowana\n",
    "I_ex5_scipy, _ = scipy.integrate.quad(func_ex5, 1, np.pi)\n",
    "I_ex5_scipy"
   ]
  },
  {
   "cell_type": "markdown",
   "metadata": {},
   "source": [
    "### ZADANIE 6\n",
    "\n",
    "<img src=\"z6.png\" alt=\"zadanie6\" width=\"550\"/>"
   ]
  },
  {
   "cell_type": "markdown",
   "metadata": {},
   "source": [
    "#### Ekstrapolacja Richardsona\n",
    "- $D_{f1}: \\quad$ $D_{f1} = \\dfrac{f(x+h)-f(x)}{h}$\n",
    "\n",
    "- $D_{c2}: \\quad$\n",
    "$D_{c2} = \\dfrac{f(x+h)-f(x-h)}{2h}$\n",
    "\n",
    "- $D_{c4}: \\quad$ $D_{c4} = \\dfrac{2^2 D_{c2}(x,h) - D_{c2}(x,2h)}{3} = \\dfrac{8f(x+h)-8f(x-h)-f(x+2h)+f(x-2h)}{12h}$"
   ]
  },
  {
   "cell_type": "code",
   "execution_count": 2757,
   "metadata": {},
   "outputs": [],
   "source": [
    "x1, df1_x1 = 1, 1\n",
    "x2, df2_x2 = np.pi / 3, 1/2\n",
    "x3, df3_x3 = 0, 1\n",
    "\n",
    "h_values = np.array([0.1, 0.01, 0.001])"
   ]
  },
  {
   "cell_type": "code",
   "execution_count": 2758,
   "metadata": {},
   "outputs": [],
   "source": [
    "def f1_ex6(x: float) -> float:\n",
    "    return x**3-2*x\n",
    "\n",
    "def f2_ex6(x: float) -> float:\n",
    "    return np.sin(x)\n",
    "\n",
    "def f3_ex6(x: float) -> float:\n",
    "    return np.exp(x)"
   ]
  },
  {
   "cell_type": "code",
   "execution_count": 2759,
   "metadata": {},
   "outputs": [],
   "source": [
    "def Df1(func: Callable[[float], float], x: float, h: float) -> float:\n",
    "    return (func(x + h) - func(x)) / (h)"
   ]
  },
  {
   "cell_type": "code",
   "execution_count": 2760,
   "metadata": {},
   "outputs": [],
   "source": [
    "def Dc2(func: Callable[[float], float], x: float, h: float) -> float:\n",
    "    return (func(x + h) - func(x - h)) / (2 * h)"
   ]
  },
  {
   "cell_type": "code",
   "execution_count": 2761,
   "metadata": {},
   "outputs": [],
   "source": [
    "def Dc4(func: Callable[[float], float], x: float, h: float) -> float:\n",
    "    return (-func(x + 2*h) +8*func(x+h) - 8*func(x - h)+ func(x-2*h)) / (12 * h)"
   ]
  },
  {
   "cell_type": "code",
   "execution_count": 2762,
   "metadata": {},
   "outputs": [],
   "source": [
    "m = len(h_values)\n",
    "\n",
    "Df1_1 = np.zeros(m)\n",
    "Df1_2 = np.zeros(m)\n",
    "Df1_3 = np.zeros(m)\n",
    "\n",
    "Dc2_1 = np.zeros(m)\n",
    "Dc2_2 = np.zeros(m)\n",
    "Dc2_3 = np.zeros(m)\n",
    "\n",
    "Dc4_1 = np.zeros(m)\n",
    "Dc4_2 = np.zeros(m)\n",
    "Dc4_3 = np.zeros(m)\n",
    "\n",
    "for i, hi in enumerate(h_values):\n",
    "    Df1_1[i] = Df1(f1_ex6, x1, hi)\n",
    "    Df1_2[i] = Df1(f2_ex6, x2, hi)\n",
    "    Df1_3[i] = Df1(f3_ex6, x3, hi)  \n",
    "\n",
    "    Dc2_1[i] = Dc2(f1_ex6, x1, hi)\n",
    "    Dc2_2[i] = Dc2(f2_ex6, x2, hi)\n",
    "    Dc2_3[i] = Dc2(f3_ex6, x3, hi)  \n",
    "\n",
    "    Dc4_1[i] = Dc4(f1_ex6, x1, hi)\n",
    "    Dc4_2[i] = Dc4(f2_ex6, x2, hi)\n",
    "    Dc4_3[i] = Dc4(f3_ex6, x3, hi)    "
   ]
  },
  {
   "cell_type": "markdown",
   "metadata": {},
   "source": [
    "<div align=\"left\">\n",
    "\n",
    "| Pochodne              | h       | $f'(x) - D_{f1}$     | $f'(x) - D_{c2}$     | $f'(x) - D_{c4}$     |\n",
    "|------------------------|---------|----------------------|----------------------|----------------------|\n",
    "| $f'_1(1) = 1$         | 0.1     | -0.31               | -1.00000000 e-02             | -1.55431223 e-15             |\n",
    "| $f'_1(1) = 1$         | 0.01    |   -0.0301               | -1.00000000 e-04                | -8.43769499 e-15                |\n",
    "| $f'_1(1) = 1$         | 0.001   | -0.003001              | -9.99999973 e-07              | -8.88178420 e-16              |\n",
    "| |    |   |    |   |\n",
    "| $f'_2(\\pi/3) = 1/2$   | 0.1     | 0.04409811               | 8.32916766 e-04                | 1.66468370e-06                |\n",
    "| $f'_2(\\pi/3) = 1/2$   | 0.01    | 0.00433842                | 8.33329166 e-06              | 1.66657910 e-10             |\n",
    "| $f'_2(\\pi/3) = 1/2$   | 0.001   | 0.0004331             | 8.33333953 e-08             | 9.20929999e-14             |\n",
    "| |    |   |    |   |\n",
    "| $f'_3(0) = 1$         | 0.1     | -0.05170918                 | -1.66750020 e-03                 | 3.33730390 e-06              |\n",
    "| $f'_3(0) = 1$         | 0.01    | -0.00501671                | -1.66667500 e-05              | 3.33344463 e-10               |\n",
    "| $f'_3(0) = 1$         | 0.001   | -0.00050017               | -1.66666681 e-07               | 4.54081217 e-14              |\n",
    "\n",
    "</div> \n",
    "<br>\n",
    "<div align=\"right\">\n",
    "\n"
   ]
  },
  {
   "cell_type": "code",
   "execution_count": 2763,
   "metadata": {},
   "outputs": [
    {
     "name": "stdout",
     "output_type": "stream",
     "text": [
      "f1:\n",
      "f'-Df1: [-0.31     -0.0301   -0.003001]\n",
      "f'-Dc2: [-1.00000000e-02 -1.00000000e-04 -9.99999973e-07]\n",
      "f'-Dc4: [-1.55431223e-15 -8.43769499e-15 -8.88178420e-16]\n",
      "---------\n",
      "f2:\n",
      "f'-Df1: [0.04409811 0.00433842 0.0004331 ]\n",
      "f'-Dc2: [8.32916766e-04 8.33329166e-06 8.33333953e-08]\n",
      "f'-Dc4: [1.66468370e-06 1.66657910e-10 9.20929999e-14]\n",
      "---------\n",
      "f3:\n",
      "f'-Df1: [-0.05170918 -0.00501671 -0.00050017]\n",
      "f'-Dc2: [-1.66750020e-03 -1.66667500e-05 -1.66666681e-07]\n",
      "f'-Dc4: [3.33730390e-06 3.33344463e-10 4.54081217e-14]\n"
     ]
    }
   ],
   "source": [
    "print('f1:')\n",
    "print('f\\'-Df1:', df1_x1 - Df1_1)\n",
    "print('f\\'-Dc2:', df1_x1 - Dc2_1)\n",
    "print('f\\'-Dc4:', df1_x1 - Dc4_1)\n",
    "print('---------')\n",
    "\n",
    "print('f2:')\n",
    "print('f\\'-Df1:',df2_x2 - Df1_2)\n",
    "print('f\\'-Dc2:', df2_x2 - Dc2_2)\n",
    "print('f\\'-Dc4:', df2_x2 - Dc4_2)\n",
    "print('---------')\n",
    "\n",
    "print('f3:')\n",
    "print('f\\'-Df1:',df3_x3 - Df1_3)\n",
    "print('f\\'-Dc2:', df3_x3 - Dc2_3)\n",
    "print('f\\'-Dc4:', df3_x3 - Dc4_3)"
   ]
  },
  {
   "cell_type": "markdown",
   "metadata": {},
   "source": [
    "### ZADANIE 7\n",
    "\n",
    "<img src=\"z7.png\" alt=\"zadanie7\" width=\"550\"/>"
   ]
  },
  {
   "cell_type": "code",
   "execution_count": 2764,
   "metadata": {},
   "outputs": [],
   "source": [
    "x_ex7 = np.array([0.0, 0.1, 0.2, 0.3, 0.4])\n",
    "y_ex7 = np.array([0.000000, 0.078348, 0.138910, 0.192916, 0.244981])\n",
    "\n",
    "xs = 0.2\n",
    "h_ex7 = 0.001"
   ]
  },
  {
   "cell_type": "code",
   "execution_count": 2765,
   "metadata": {},
   "outputs": [],
   "source": [
    "def Dc4_interpolation(x: float, h: float, xdata: np.ndarray, ydata: np.ndarray) -> float:\n",
    "    f1 = interpol_newton(x + 2*h, xdata, ydata)\n",
    "    f2 = interpol_newton(x+h, xdata, ydata)\n",
    "    f3 = interpol_newton(x - h, xdata, ydata)\n",
    "    f4 = interpol_newton(x-2*h, xdata, ydata)\n",
    "    return (-f1 +8*f2 - 8*f3+ f4) / (12 * h)"
   ]
  },
  {
   "cell_type": "code",
   "execution_count": 2766,
   "metadata": {},
   "outputs": [
    {
     "data": {
      "text/plain": [
       "np.float64(0.5596358333333102)"
      ]
     },
     "execution_count": 2766,
     "metadata": {},
     "output_type": "execute_result"
    }
   ],
   "source": [
    "Dc4_interpolation(x=xs, h=h_ex7, xdata=x_ex7, ydata=y_ex7)"
   ]
  },
  {
   "cell_type": "markdown",
   "metadata": {},
   "source": [
    "### ZADANIE 8\n",
    "\n",
    "<img src=\"z8.png\" alt=\"zadanie7\" width=\"550\"/>"
   ]
  },
  {
   "cell_type": "markdown",
   "metadata": {},
   "source": [
    "#### Wzór trójpunktowy:\n",
    "$$f'(x) = \\dfrac{f(x+h)-f(x-h)}{2h}$$\n",
    "\n",
    "$$f''(x) = \\dfrac{f(x+h)-2f(x)+f(x-h)}{h^2}$$"
   ]
  },
  {
   "cell_type": "code",
   "execution_count": 2767,
   "metadata": {},
   "outputs": [],
   "source": [
    "def derivative_interpolation(x: float, h: float, xdata: np.ndarray, ydata: np.ndarray) -> Tuple[float, float]:\n",
    "    f1 = interpol_newton(x+h, xdata, ydata)\n",
    "    f2 = interpol_newton(x-h, xdata, ydata)\n",
    "    f = interpol_newton(x, xdata, ydata)\n",
    "    df = (f1-f2)/(2 * h)\n",
    "    ddf = (f1-2*f+f2)/(h**2)\n",
    "    return df, ddf"
   ]
  },
  {
   "cell_type": "code",
   "execution_count": 2768,
   "metadata": {},
   "outputs": [],
   "source": [
    "x_ex8 = np.array([-2.2, -0.3, 0.8, 1.9])\n",
    "y_ex8 = np.array([15.180, 10.962, 1.920, -2.040])"
   ]
  },
  {
   "cell_type": "code",
   "execution_count": 2769,
   "metadata": {},
   "outputs": [
    {
     "name": "stdout",
     "output_type": "stream",
     "text": [
      "f'(0)= -8.559999000000929\n",
      "f''(0)= -0.5999999963535174\n"
     ]
    }
   ],
   "source": [
    "df_ex8, ddf_ex8 = derivative_interpolation(x=0, h=0.001, xdata=x_ex8, ydata=y_ex8)\n",
    "\n",
    "print('f\\'(0)=' , df_ex8)\n",
    "print('f\\'\\'(0)=' , ddf_ex8)"
   ]
  }
 ],
 "metadata": {
  "kernelspec": {
   "display_name": "Python 3",
   "language": "python",
   "name": "python3"
  },
  "language_info": {
   "codemirror_mode": {
    "name": "ipython",
    "version": 3
   },
   "file_extension": ".py",
   "mimetype": "text/x-python",
   "name": "python",
   "nbconvert_exporter": "python",
   "pygments_lexer": "ipython3",
   "version": "3.12.5"
  }
 },
 "nbformat": 4,
 "nbformat_minor": 2
}
